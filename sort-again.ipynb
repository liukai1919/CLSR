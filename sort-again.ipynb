{
 "cells": [
  {
   "cell_type": "markdown",
   "metadata": {},
   "source": [
    "# 插入排序"
   ]
  },
  {
   "cell_type": "code",
   "execution_count": 1,
   "metadata": {},
   "outputs": [],
   "source": [
    "def InsertSort(arr):\n",
    "    for i in range(1,len(arr)):\n",
    "        key = arr[i];\n",
    "        j=i;\n",
    "        while arr[j]<arr[j-1]:\n",
    "            arr[j],arr[j-1]=arr[j-1],arr[j];\n",
    "            j -= 1;\n",
    "            if j < 0:\n",
    "                break;\n",
    "    return arr;"
   ]
  },
  {
   "cell_type": "markdown",
   "metadata": {},
   "source": [
    "# 希尔排序"
   ]
  },
  {
   "cell_type": "code",
   "execution_count": 7,
   "metadata": {},
   "outputs": [],
   "source": [
    "def ShellSort(arr):\n",
    "    n = len(arr);\n",
    "    h=1;\n",
    "    while h<n/3:\n",
    "        h=3*h+1;\n",
    "    while h>=1:\n",
    "        for i in range(h,n):\n",
    "            j=i;\n",
    "            while arr[j]<arr[j-h]:\n",
    "                arr[j],arr[j-h]=arr[j-h],arr[j];\n",
    "                j -= h;\n",
    "                if j < h:\n",
    "                    break;\n",
    "        h = h//3;\n",
    "    return arr;"
   ]
  },
  {
   "cell_type": "markdown",
   "metadata": {},
   "source": [
    "# 选择排序"
   ]
  },
  {
   "cell_type": "code",
   "execution_count": 4,
   "metadata": {},
   "outputs": [],
   "source": [
    "def SelectSort(arr):\n",
    "    for i in range(1,len(arr)-1):\n",
    "        min = i;\n",
    "        for j in range(i+1,len(arr)):\n",
    "            if arr[j]<arr[min]:\n",
    "                min = j;\n",
    "        arr[i],arr[min] = arr[min],arr[i];\n",
    "    return arr;"
   ]
  },
  {
   "cell_type": "code",
   "execution_count": 5,
   "metadata": {},
   "outputs": [],
   "source": [
    "a= [3,41,52,26,38,57,9,49];"
   ]
  },
  {
   "cell_type": "code",
   "execution_count": 6,
   "metadata": {},
   "outputs": [
    {
     "name": "stdout",
     "output_type": "stream",
     "text": [
      "[3, 9, 26, 38, 41, 49, 52, 57]\n"
     ]
    }
   ],
   "source": [
    "#print(InsertSort(arr))\n",
    "#print(ShellSort(a))\n",
    "print(SelectSort(a));"
   ]
  },
  {
   "cell_type": "code",
   "execution_count": 4,
   "metadata": {},
   "outputs": [],
   "source": [
    "import random\n",
    "arr = [];\n",
    "for i in range(1000):\n",
    "    arr.append(random.randint(1,100));"
   ]
  },
  {
   "cell_type": "code",
   "execution_count": null,
   "metadata": {},
   "outputs": [],
   "source": []
  }
 ],
 "metadata": {
  "kernelspec": {
   "display_name": "Python 3",
   "language": "python",
   "name": "python3"
  },
  "language_info": {
   "codemirror_mode": {
    "name": "ipython",
    "version": 3
   },
   "file_extension": ".py",
   "mimetype": "text/x-python",
   "name": "python",
   "nbconvert_exporter": "python",
   "pygments_lexer": "ipython3",
   "version": "3.7.0"
  }
 },
 "nbformat": 4,
 "nbformat_minor": 2
}
