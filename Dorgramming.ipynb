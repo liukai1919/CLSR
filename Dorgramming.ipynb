{
 "cells": [
  {
   "cell_type": "markdown",
   "metadata": {},
   "source": [
    "# 滚切割"
   ]
  },
  {
   "cell_type": "code",
   "execution_count": 1,
   "metadata": {},
   "outputs": [],
   "source": [
    "#递归自顶向下求解\n",
    "p = [1,5,8,9,10,17,17,20,24,30]"
   ]
  },
  {
   "cell_type": "code",
   "execution_count": 2,
   "metadata": {},
   "outputs": [],
   "source": [
    "def CUT_ROD(p,n):\n",
    "    if n == 0:\n",
    "        return 0\n",
    "    q = float('-inf')\n",
    "    for i in range(0,n):\n",
    "        q = max(q,p[i]+CUT_ROD(p,n-i-1))\n",
    "        #print(q)\n",
    "    return q"
   ]
  },
  {
   "cell_type": "code",
   "execution_count": 3,
   "metadata": {},
   "outputs": [
    {
     "name": "stdout",
     "output_type": "stream",
     "text": [
      "10\n",
      "CPU times: user 42 µs, sys: 7 µs, total: 49 µs\n",
      "Wall time: 52 µs\n"
     ]
    }
   ],
   "source": [
    "%%time\n",
    "print(CUT_ROD(p,4))"
   ]
  },
  {
   "cell_type": "code",
   "execution_count": 4,
   "metadata": {},
   "outputs": [],
   "source": [
    "#带备忘自顶向下递归\n",
    "def MEMOIZED_CUT_ROD(p,n):\n",
    "    r = [float('-inf')]* (n+1)\n",
    "    return MEMOIZED_CUT_ROD_AUX(p,n,r)\n",
    "def MEMOIZED_CUT_ROD_AUX(p,n,r):\n",
    "#     if r[n-1]>0:\n",
    "#         return r[n-1]\n",
    "    if n ==0:\n",
    "        q = 0\n",
    "    else :\n",
    "        q = float('-inf')\n",
    "        for i in range(0,n):\n",
    "            q = max(q,p[i]+MEMOIZED_CUT_ROD_AUX(p,n-i-1,r))\n",
    "            r[i]=q\n",
    "    return q"
   ]
  },
  {
   "cell_type": "code",
   "execution_count": 5,
   "metadata": {},
   "outputs": [
    {
     "name": "stdout",
     "output_type": "stream",
     "text": [
      "10\n",
      "CPU times: user 50 µs, sys: 32 µs, total: 82 µs\n",
      "Wall time: 75.1 µs\n"
     ]
    }
   ],
   "source": [
    "%%time\n",
    "print(MEMOIZED_CUT_ROD(p,4))"
   ]
  },
  {
   "cell_type": "code",
   "execution_count": 6,
   "metadata": {},
   "outputs": [],
   "source": [
    "#自底向上\n",
    "def BOTTOM_UP_CUT_ROD(p,n):\n",
    "    r = [float('-inf')]* (n+1)\n",
    "    r[0] = 0\n",
    "    for j in range(1,n+1):\n",
    "        q = float('-inf')\n",
    "        for i in range(1,j+1):\n",
    "            q = max(q,p[i-1]+r[j-i])\n",
    "            r[j]=q\n",
    "    return q\n"
   ]
  },
  {
   "cell_type": "code",
   "execution_count": 7,
   "metadata": {},
   "outputs": [
    {
     "name": "stdout",
     "output_type": "stream",
     "text": [
      "10\n",
      "CPU times: user 38 µs, sys: 7 µs, total: 45 µs\n",
      "Wall time: 48.2 µs\n"
     ]
    }
   ],
   "source": [
    "%%time\n",
    "print(BOTTOM_UP_CUT_ROD(p,4))"
   ]
  },
  {
   "cell_type": "code",
   "execution_count": 18,
   "metadata": {
    "code_folding": []
   },
   "outputs": [],
   "source": [
    "#求解\n",
    "def EXTENDED_BOTTOM_UP_CUT_ROD(p,n):\n",
    "    r = [float('-inf')]* (n+1)\n",
    "    s = [float('-inf')]* (n+1)\n",
    "    r[0] = 0\n",
    "    for j in range(1,n+1):\n",
    "        q = float('-inf')\n",
    "        for i in range(1,j+1):\n",
    "            #q = max(q,p[i-1]+r[j-i])\n",
    "            if q<p[i-1]+r[j-i]:\n",
    "                q=p[i-1]+r[j-i]\n",
    "                s[j]=i\n",
    "                r[j]=q\n",
    "    return r,s"
   ]
  },
  {
   "cell_type": "code",
   "execution_count": 19,
   "metadata": {},
   "outputs": [
    {
     "name": "stdout",
     "output_type": "stream",
     "text": [
      "CPU times: user 3 µs, sys: 1 µs, total: 4 µs\n",
      "Wall time: 6.2 µs\n"
     ]
    }
   ],
   "source": [
    "%%time\n",
    "def PRINT_SLOTION(p,n):\n",
    "    r,s = EXTENDED_BOTTOM_UP_CUT_ROD(p,n)\n",
    "    while(n>0):\n",
    "        print(s[n])\n",
    "        n = n-s[n]\n"
   ]
  },
  {
   "cell_type": "code",
   "execution_count": 20,
   "metadata": {},
   "outputs": [
    {
     "data": {
      "text/plain": [
       "([0, 1, 5, 8, 10, 13, 17, 18, 22, 25, 30],\n",
       " [-inf, 1, 2, 3, 2, 2, 6, 1, 2, 3, 10])"
      ]
     },
     "execution_count": 20,
     "metadata": {},
     "output_type": "execute_result"
    }
   ],
   "source": [
    "EXTENDED_BOTTOM_UP_CUT_ROD(p,10)"
   ]
  },
  {
   "cell_type": "code",
   "execution_count": 17,
   "metadata": {},
   "outputs": [
    {
     "name": "stdout",
     "output_type": "stream",
     "text": [
      "4\n"
     ]
    }
   ],
   "source": [
    "PRINT_SLOTION(p,4)"
   ]
  },
  {
   "cell_type": "code",
   "execution_count": null,
   "metadata": {},
   "outputs": [],
   "source": []
  }
 ],
 "metadata": {
  "kernelspec": {
   "display_name": "Python 3",
   "language": "python",
   "name": "python3"
  },
  "language_info": {
   "codemirror_mode": {
    "name": "ipython",
    "version": 3
   },
   "file_extension": ".py",
   "mimetype": "text/x-python",
   "name": "python",
   "nbconvert_exporter": "python",
   "pygments_lexer": "ipython3",
   "version": "3.7.1"
  },
  "varInspector": {
   "cols": {
    "lenName": 16,
    "lenType": 16,
    "lenVar": 40
   },
   "kernels_config": {
    "python": {
     "delete_cmd_postfix": "",
     "delete_cmd_prefix": "del ",
     "library": "var_list.py",
     "varRefreshCmd": "print(var_dic_list())"
    },
    "r": {
     "delete_cmd_postfix": ") ",
     "delete_cmd_prefix": "rm(",
     "library": "var_list.r",
     "varRefreshCmd": "cat(var_dic_list()) "
    }
   },
   "types_to_exclude": [
    "module",
    "function",
    "builtin_function_or_method",
    "instance",
    "_Feature"
   ],
   "window_display": false
  }
 },
 "nbformat": 4,
 "nbformat_minor": 2
}
