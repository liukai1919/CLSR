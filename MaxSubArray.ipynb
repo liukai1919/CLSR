{
 "cells": [
  {
   "cell_type": "markdown",
   "metadata": {},
   "source": [
    "# 最大子数组"
   ]
  },
  {
   "cell_type": "markdown",
   "metadata": {},
   "source": [
    "## 暴力解法"
   ]
  },
  {
   "cell_type": "code",
   "execution_count": 8,
   "metadata": {},
   "outputs": [],
   "source": [
    "def vioMaxSubArray(arr):\n",
    "    sum = -10000\n",
    "    low = 0;\n",
    "    hight = 0;\n",
    "    for i in range(0,len(arr)):\n",
    "        for j in range (i,len(arr)):\n",
    "            subarray = 0;\n",
    "            for k in range(i,j+1):\n",
    "                subarray += arr[k];\n",
    "            if subarray > sum :\n",
    "                sum = subarray;\n",
    "                low = i;\n",
    "                hight = j;\n",
    "    return low,hight,sum;\n",
    "                    "
   ]
  },
  {
   "cell_type": "code",
   "execution_count": 9,
   "metadata": {},
   "outputs": [
    {
     "name": "stdout",
     "output_type": "stream",
     "text": [
      "(1, 1, 10)\n"
     ]
    }
   ],
   "source": [
    "a = [ -6, 10, -5, -3, -7, -1, -1 ];\n",
    "print(vioMaxSubArray(a));"
   ]
  },
  {
   "cell_type": "markdown",
   "metadata": {},
   "source": [
    "## 递归解法"
   ]
  },
  {
   "cell_type": "code",
   "execution_count": 4,
   "metadata": {},
   "outputs": [],
   "source": [
    "def Find_max_crossing_subarray(a,low,mid,high):\n",
    "    left_sum=float(\"-inf\")\n",
    "    sum=0;\n",
    "    max_left = 0;\n",
    "    max_right = 0;\n",
    "    for i in range(mid,low-1,-1):\n",
    "        sum+=a[i];\n",
    "        if left_sum<sum:\n",
    "            left_sum=sum;\n",
    "            max_left=i;\n",
    "    right_sum=float(\"-inf\")\n",
    "    sum=0\n",
    "    for j in range(mid+1,high+1):\n",
    "        sum+=a[j];\n",
    "        if right_sum<sum:\n",
    "            right_sum=sum\n",
    "            max_right=j;\n",
    "    return (max_left,max_right,left_sum+right_sum);"
   ]
  },
  {
   "cell_type": "code",
   "execution_count": 7,
   "metadata": {},
   "outputs": [],
   "source": [
    "def Find_max_subarray(a,low,high):\n",
    "    #print(low,high)\n",
    "    if high == low:\n",
    "       # print(a[low])\n",
    "        return (low,high,a[low]);\n",
    "    else:\n",
    "        mid = (low+high)//2;\n",
    "        print('mid: '+str(mid))\n",
    "        b_max_left,b_max_right,b_max_sum=Find_max_subarray(a,low,mid);\n",
    "        c_max_left,c_max_right,c_max_sum=Find_max_subarray(a,mid+1,high);\n",
    "        a_max_left,a_max_right,a_max_sum=Find_max_crossing_subarray(a,low,mid,high);\n",
    "        if b_max_sum>=c_max_sum and b_max_left>=a_max_sum:\n",
    "            return (b_max_left,b_max_right,b_max_sum);\n",
    "        elif c_max_sum>=b_max_sum and c_max_sum>=a_max_sum:\n",
    "            return (c_max_left,c_max_right,c_max_sum);\n",
    "        else: \n",
    "            return (a_max_left,a_max_right,a_max_sum);"
   ]
  },
  {
   "cell_type": "code",
   "execution_count": 8,
   "metadata": {},
   "outputs": [
    {
     "name": "stdout",
     "output_type": "stream",
     "text": [
      "mid: 3\n",
      "mid: 1\n",
      "mid: 0\n",
      "mid: 2\n",
      "mid: 5\n",
      "mid: 4\n",
      "(1, 2, 5)\n"
     ]
    }
   ],
   "source": [
    "\n",
    "a = [ -6, 10, -5, -3, -7, -1, -1 ];\n",
    "print(Find_max_subarray(a,0,len(a)-1))"
   ]
  },
  {
   "cell_type": "code",
   "execution_count": 20,
   "metadata": {},
   "outputs": [],
   "source": [
    "def find_max_crossing_subarray(A,low,mid,high):\n",
    "    left_sum = float(\"-inf\")\n",
    "    sum = 0\n",
    "    max_left = 0\n",
    "    max_right = 0\n",
    "    for i in range(mid,low-1,-1):\n",
    "        sum = sum + A[i]\n",
    "        if sum > left_sum:\n",
    "            left_sum = sum\n",
    "            max_left = i\n",
    "    right_sum = float(\"-inf\")\n",
    "    sum = 0\n",
    "    for j in range(mid+1,high+1):\n",
    "        sum = sum + A[j]\n",
    "        if sum > right_sum:\n",
    "            right_sum = sum\n",
    "            max_right = j\n",
    "    return [max_left,max_right,left_sum+right_sum]\n",
    " \n",
    " \n",
    "import math\n",
    "def find_maximum_subarray(A,low,high):\n",
    "    if high == low:\n",
    "       # print(A[low])\n",
    "        return (low,high,A[low])\n",
    "    else:\n",
    "        mid = math.floor((low+high)/2)\n",
    "        print(mid)\n",
    "        [left_low,left_high,left_sum] = find_maximum_subarray(A,low,mid)\n",
    "        [right_low,right_high,right_sum] = find_maximum_subarray(A,mid+1,high)\n",
    "        [cross_low,cross_high,cross_sum] = find_max_crossing_subarray(A,low,mid,high)\n",
    "        if left_sum >= right_sum and  left_sum >= cross_sum:\n",
    "            return [left_low,left_high,left_sum]\n",
    "        elif right_sum >= left_sum and  right_sum >= cross_sum:\n",
    "            return [right_low,right_high,right_sum]\n",
    "        else:return [cross_low,cross_high,cross_sum]\n",
    "            \n"
   ]
  },
  {
   "cell_type": "code",
   "execution_count": 21,
   "metadata": {},
   "outputs": [
    {
     "name": "stdout",
     "output_type": "stream",
     "text": [
      "3\n",
      "1\n",
      "0\n",
      "2\n",
      "5\n",
      "4\n",
      "[1, 1, 10]\n"
     ]
    }
   ],
   "source": [
    "print(find_maximum_subarray(a,0,len(a)-1))"
   ]
  },
  {
   "cell_type": "code",
   "execution_count": null,
   "metadata": {},
   "outputs": [],
   "source": []
  }
 ],
 "metadata": {
  "kernelspec": {
   "display_name": "Python 3",
   "language": "python",
   "name": "python3"
  },
  "language_info": {
   "codemirror_mode": {
    "name": "ipython",
    "version": 3
   },
   "file_extension": ".py",
   "mimetype": "text/x-python",
   "name": "python",
   "nbconvert_exporter": "python",
   "pygments_lexer": "ipython3",
   "version": "3.7.0"
  }
 },
 "nbformat": 4,
 "nbformat_minor": 2
}
